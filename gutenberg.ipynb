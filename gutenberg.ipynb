{
 "cells": [
  {
   "cell_type": "code",
   "execution_count": 2,
   "id": "efa00ab4",
   "metadata": {},
   "outputs": [
    {
     "name": "stdout",
     "output_type": "stream",
     "text": [
      "# conda environments:\n",
      "#\n",
      "base                     C:\\Users\\bella\\anaconda3\n",
      "h501_gutenberg        *  C:\\Users\\bella\\anaconda3\\envs\\h501_gutenberg\n",
      "                         C:\\Users\\bella\\miniconda3\n",
      "\n"
     ]
    }
   ],
   "source": [
    "!conda env list"
   ]
  },
  {
   "cell_type": "code",
   "execution_count": 12,
   "id": "b8267fbe",
   "metadata": {},
   "outputs": [
    {
     "name": "stdout",
     "output_type": "stream",
     "text": [
      "Trying to fetch README from: https://raw.githubusercontent.com/rfordatascience/tidytuesday/refs/heads/main/data/2025/2025-06-03/readme.md\n",
      "Successfully fetched README from: https://raw.githubusercontent.com/rfordatascience/tidytuesday/refs/heads/main/data/2025/2025-06-03/readme.md\n",
      "Downloading gutenberg_authors.csv...\n",
      "Successfully saved gutenberg_authors.csv to c:\\Users\\bella\\INFO-H501\\h501-gutenberg\\gutenberg_authors.csv\n",
      "Downloading gutenberg_languages.csv...\n",
      "Successfully saved gutenberg_languages.csv to c:\\Users\\bella\\INFO-H501\\h501-gutenberg\\gutenberg_languages.csv\n",
      "Downloading gutenberg_metadata.csv...\n",
      "Successfully saved gutenberg_metadata.csv to c:\\Users\\bella\\INFO-H501\\h501-gutenberg\\gutenberg_metadata.csv\n",
      "Downloading gutenberg_subjects.csv...\n",
      "Successfully saved gutenberg_subjects.csv to c:\\Users\\bella\\INFO-H501\\h501-gutenberg\\gutenberg_subjects.csv\n",
      "Downloading meta.yaml...\n",
      "Successfully saved meta.yaml to c:\\Users\\bella\\INFO-H501\\h501-gutenberg\\meta.yaml\n",
      "Downloading pg-logo-129x80.png...\n",
      "Successfully saved pg-logo-129x80.png to c:\\Users\\bella\\INFO-H501\\h501-gutenberg\\pg-logo-129x80.png\n"
     ]
    }
   ],
   "source": [
    "import pydytuesday as pdy\n",
    "import pandas as pd\n",
    "pdy.get_date('2025-06-03')\n",
    "test = pd.read_csv('C:/Users/bella/INFO-H501/h501-gutenberg/gutenberg_authors.csv')"
   ]
  },
  {
   "cell_type": "code",
   "execution_count": null,
   "id": "74570fb8",
   "metadata": {},
   "outputs": [],
   "source": [
    "from tt_gutenberg.authors import *\n",
    "\n",
    "list_authors(by_languages=True, alias=True)"
   ]
  }
 ],
 "metadata": {
  "kernelspec": {
   "display_name": "h501_gutenberg",
   "language": "python",
   "name": "python3"
  },
  "language_info": {
   "codemirror_mode": {
    "name": "ipython",
    "version": 3
   },
   "file_extension": ".py",
   "mimetype": "text/x-python",
   "name": "python",
   "nbconvert_exporter": "python",
   "pygments_lexer": "ipython3",
   "version": "3.11.13"
  }
 },
 "nbformat": 4,
 "nbformat_minor": 5
}
